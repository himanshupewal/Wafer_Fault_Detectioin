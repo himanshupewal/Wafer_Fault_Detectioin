{
 "cells": [
  {
   "cell_type": "code",
   "execution_count": 134,
   "metadata": {},
   "outputs": [],
   "source": [
    "from sklearn.preprocessing import RobustScaler\n",
    "from sklearn.impute import SimpleImputer\n",
    "from sklearn.impute import KNNImputer\n",
    "from sklearn.pipeline import Pipeline \n",
    "import pandas as pd\n",
    "import numpy as np\n",
    "from sklearn.model_selection import train_test_split"
   ]
  },
  {
   "cell_type": "code",
   "execution_count": 135,
   "metadata": {},
   "outputs": [
    {
     "data": {
      "text/html": [
       "<div>\n",
       "<style scoped>\n",
       "    .dataframe tbody tr th:only-of-type {\n",
       "        vertical-align: middle;\n",
       "    }\n",
       "\n",
       "    .dataframe tbody tr th {\n",
       "        vertical-align: top;\n",
       "    }\n",
       "\n",
       "    .dataframe thead th {\n",
       "        text-align: right;\n",
       "    }\n",
       "</style>\n",
       "<table border=\"1\" class=\"dataframe\">\n",
       "  <thead>\n",
       "    <tr style=\"text-align: right;\">\n",
       "      <th></th>\n",
       "      <th>Sensor-1</th>\n",
       "      <th>Sensor-2</th>\n",
       "      <th>Sensor-3</th>\n",
       "      <th>Sensor-4</th>\n",
       "      <th>Sensor-5</th>\n",
       "      <th>Sensor-7</th>\n",
       "      <th>Sensor-8</th>\n",
       "      <th>Sensor-9</th>\n",
       "      <th>Sensor-10</th>\n",
       "      <th>Sensor-11</th>\n",
       "      <th>...</th>\n",
       "      <th>Sensor-582</th>\n",
       "      <th>Sensor-583</th>\n",
       "      <th>Sensor-584</th>\n",
       "      <th>Sensor-585</th>\n",
       "      <th>Sensor-586</th>\n",
       "      <th>Sensor-587</th>\n",
       "      <th>Sensor-588</th>\n",
       "      <th>Sensor-589</th>\n",
       "      <th>Sensor-590</th>\n",
       "      <th>Good/Bad</th>\n",
       "    </tr>\n",
       "  </thead>\n",
       "  <tbody>\n",
       "    <tr>\n",
       "      <th>0</th>\n",
       "      <td>2968.33</td>\n",
       "      <td>2476.58</td>\n",
       "      <td>2216.7333</td>\n",
       "      <td>1748.0885</td>\n",
       "      <td>1.1127</td>\n",
       "      <td>97.5822</td>\n",
       "      <td>0.1242</td>\n",
       "      <td>1.5300</td>\n",
       "      <td>-0.0279</td>\n",
       "      <td>-0.0040</td>\n",
       "      <td>...</td>\n",
       "      <td>NaN</td>\n",
       "      <td>0.5004</td>\n",
       "      <td>0.0120</td>\n",
       "      <td>0.0033</td>\n",
       "      <td>2.4069</td>\n",
       "      <td>0.0545</td>\n",
       "      <td>0.0184</td>\n",
       "      <td>0.0055</td>\n",
       "      <td>33.7876</td>\n",
       "      <td>-1</td>\n",
       "    </tr>\n",
       "    <tr>\n",
       "      <th>1</th>\n",
       "      <td>2961.04</td>\n",
       "      <td>2506.43</td>\n",
       "      <td>2170.0666</td>\n",
       "      <td>1364.5157</td>\n",
       "      <td>1.5447</td>\n",
       "      <td>96.7700</td>\n",
       "      <td>0.1230</td>\n",
       "      <td>1.3953</td>\n",
       "      <td>0.0084</td>\n",
       "      <td>0.0062</td>\n",
       "      <td>...</td>\n",
       "      <td>NaN</td>\n",
       "      <td>0.4994</td>\n",
       "      <td>0.0115</td>\n",
       "      <td>0.0031</td>\n",
       "      <td>2.3020</td>\n",
       "      <td>0.0545</td>\n",
       "      <td>0.0184</td>\n",
       "      <td>0.0055</td>\n",
       "      <td>33.7876</td>\n",
       "      <td>1</td>\n",
       "    </tr>\n",
       "    <tr>\n",
       "      <th>2</th>\n",
       "      <td>3072.03</td>\n",
       "      <td>2500.68</td>\n",
       "      <td>2205.7445</td>\n",
       "      <td>1363.1048</td>\n",
       "      <td>1.0518</td>\n",
       "      <td>101.8644</td>\n",
       "      <td>0.1220</td>\n",
       "      <td>1.3896</td>\n",
       "      <td>0.0138</td>\n",
       "      <td>0.0000</td>\n",
       "      <td>...</td>\n",
       "      <td>NaN</td>\n",
       "      <td>0.4987</td>\n",
       "      <td>0.0118</td>\n",
       "      <td>0.0036</td>\n",
       "      <td>2.3719</td>\n",
       "      <td>0.0545</td>\n",
       "      <td>0.0184</td>\n",
       "      <td>0.0055</td>\n",
       "      <td>33.7876</td>\n",
       "      <td>-1</td>\n",
       "    </tr>\n",
       "    <tr>\n",
       "      <th>3</th>\n",
       "      <td>3021.83</td>\n",
       "      <td>2419.83</td>\n",
       "      <td>2205.7445</td>\n",
       "      <td>1363.1048</td>\n",
       "      <td>1.0518</td>\n",
       "      <td>101.8644</td>\n",
       "      <td>0.1220</td>\n",
       "      <td>1.4108</td>\n",
       "      <td>-0.0046</td>\n",
       "      <td>-0.0024</td>\n",
       "      <td>...</td>\n",
       "      <td>NaN</td>\n",
       "      <td>0.4934</td>\n",
       "      <td>0.0123</td>\n",
       "      <td>0.0040</td>\n",
       "      <td>2.4923</td>\n",
       "      <td>0.0545</td>\n",
       "      <td>0.0184</td>\n",
       "      <td>0.0055</td>\n",
       "      <td>33.7876</td>\n",
       "      <td>-1</td>\n",
       "    </tr>\n",
       "    <tr>\n",
       "      <th>4</th>\n",
       "      <td>3006.95</td>\n",
       "      <td>2435.34</td>\n",
       "      <td>2189.8111</td>\n",
       "      <td>1084.6502</td>\n",
       "      <td>1.1993</td>\n",
       "      <td>104.8856</td>\n",
       "      <td>0.1234</td>\n",
       "      <td>1.5094</td>\n",
       "      <td>-0.0046</td>\n",
       "      <td>0.0121</td>\n",
       "      <td>...</td>\n",
       "      <td>NaN</td>\n",
       "      <td>0.4987</td>\n",
       "      <td>0.0145</td>\n",
       "      <td>0.0041</td>\n",
       "      <td>2.8991</td>\n",
       "      <td>0.0545</td>\n",
       "      <td>0.0184</td>\n",
       "      <td>0.0055</td>\n",
       "      <td>33.7876</td>\n",
       "      <td>-1</td>\n",
       "    </tr>\n",
       "    <tr>\n",
       "      <th>...</th>\n",
       "      <td>...</td>\n",
       "      <td>...</td>\n",
       "      <td>...</td>\n",
       "      <td>...</td>\n",
       "      <td>...</td>\n",
       "      <td>...</td>\n",
       "      <td>...</td>\n",
       "      <td>...</td>\n",
       "      <td>...</td>\n",
       "      <td>...</td>\n",
       "      <td>...</td>\n",
       "      <td>...</td>\n",
       "      <td>...</td>\n",
       "      <td>...</td>\n",
       "      <td>...</td>\n",
       "      <td>...</td>\n",
       "      <td>...</td>\n",
       "      <td>...</td>\n",
       "      <td>...</td>\n",
       "      <td>...</td>\n",
       "      <td>...</td>\n",
       "    </tr>\n",
       "    <tr>\n",
       "      <th>95</th>\n",
       "      <td>3013.66</td>\n",
       "      <td>2526.44</td>\n",
       "      <td>2185.2111</td>\n",
       "      <td>1141.6306</td>\n",
       "      <td>0.8447</td>\n",
       "      <td>100.5978</td>\n",
       "      <td>0.1217</td>\n",
       "      <td>1.5337</td>\n",
       "      <td>0.0090</td>\n",
       "      <td>0.0058</td>\n",
       "      <td>...</td>\n",
       "      <td>NaN</td>\n",
       "      <td>0.5013</td>\n",
       "      <td>0.0076</td>\n",
       "      <td>0.0021</td>\n",
       "      <td>1.5152</td>\n",
       "      <td>0.0153</td>\n",
       "      <td>0.0048</td>\n",
       "      <td>0.0017</td>\n",
       "      <td>31.0176</td>\n",
       "      <td>-1</td>\n",
       "    </tr>\n",
       "    <tr>\n",
       "      <th>96</th>\n",
       "      <td>2982.87</td>\n",
       "      <td>2477.01</td>\n",
       "      <td>2315.2667</td>\n",
       "      <td>2360.1325</td>\n",
       "      <td>1.1259</td>\n",
       "      <td>90.1144</td>\n",
       "      <td>0.1160</td>\n",
       "      <td>1.4695</td>\n",
       "      <td>0.0071</td>\n",
       "      <td>0.0215</td>\n",
       "      <td>...</td>\n",
       "      <td>NaN</td>\n",
       "      <td>0.5003</td>\n",
       "      <td>0.0106</td>\n",
       "      <td>0.0028</td>\n",
       "      <td>2.1263</td>\n",
       "      <td>0.0153</td>\n",
       "      <td>0.0048</td>\n",
       "      <td>0.0017</td>\n",
       "      <td>31.0176</td>\n",
       "      <td>1</td>\n",
       "    </tr>\n",
       "    <tr>\n",
       "      <th>97</th>\n",
       "      <td>3084.82</td>\n",
       "      <td>2387.42</td>\n",
       "      <td>2171.5000</td>\n",
       "      <td>1028.4440</td>\n",
       "      <td>0.7899</td>\n",
       "      <td>101.5122</td>\n",
       "      <td>0.1224</td>\n",
       "      <td>1.3603</td>\n",
       "      <td>-0.0031</td>\n",
       "      <td>0.0086</td>\n",
       "      <td>...</td>\n",
       "      <td>NaN</td>\n",
       "      <td>0.5016</td>\n",
       "      <td>0.0130</td>\n",
       "      <td>0.0028</td>\n",
       "      <td>2.5865</td>\n",
       "      <td>0.0153</td>\n",
       "      <td>0.0048</td>\n",
       "      <td>0.0017</td>\n",
       "      <td>31.0176</td>\n",
       "      <td>-1</td>\n",
       "    </tr>\n",
       "    <tr>\n",
       "      <th>98</th>\n",
       "      <td>2955.87</td>\n",
       "      <td>2541.89</td>\n",
       "      <td>NaN</td>\n",
       "      <td>NaN</td>\n",
       "      <td>NaN</td>\n",
       "      <td>NaN</td>\n",
       "      <td>NaN</td>\n",
       "      <td>1.4493</td>\n",
       "      <td>-0.0194</td>\n",
       "      <td>-0.0018</td>\n",
       "      <td>...</td>\n",
       "      <td>NaN</td>\n",
       "      <td>0.5023</td>\n",
       "      <td>0.0140</td>\n",
       "      <td>0.0033</td>\n",
       "      <td>2.7810</td>\n",
       "      <td>0.0153</td>\n",
       "      <td>0.0048</td>\n",
       "      <td>0.0017</td>\n",
       "      <td>31.0176</td>\n",
       "      <td>-1</td>\n",
       "    </tr>\n",
       "    <tr>\n",
       "      <th>99</th>\n",
       "      <td>2914.86</td>\n",
       "      <td>2465.11</td>\n",
       "      <td>2210.2778</td>\n",
       "      <td>2120.5760</td>\n",
       "      <td>1.0700</td>\n",
       "      <td>95.1089</td>\n",
       "      <td>0.1230</td>\n",
       "      <td>1.5817</td>\n",
       "      <td>0.0118</td>\n",
       "      <td>0.0000</td>\n",
       "      <td>...</td>\n",
       "      <td>NaN</td>\n",
       "      <td>0.5026</td>\n",
       "      <td>0.0121</td>\n",
       "      <td>0.0032</td>\n",
       "      <td>2.4064</td>\n",
       "      <td>0.0153</td>\n",
       "      <td>0.0048</td>\n",
       "      <td>0.0017</td>\n",
       "      <td>31.0176</td>\n",
       "      <td>1</td>\n",
       "    </tr>\n",
       "  </tbody>\n",
       "</table>\n",
       "<p>100 rows × 465 columns</p>\n",
       "</div>"
      ],
      "text/plain": [
       "    Sensor-1  Sensor-2   Sensor-3   Sensor-4  Sensor-5  Sensor-7  Sensor-8  \\\n",
       "0    2968.33   2476.58  2216.7333  1748.0885    1.1127   97.5822    0.1242   \n",
       "1    2961.04   2506.43  2170.0666  1364.5157    1.5447   96.7700    0.1230   \n",
       "2    3072.03   2500.68  2205.7445  1363.1048    1.0518  101.8644    0.1220   \n",
       "3    3021.83   2419.83  2205.7445  1363.1048    1.0518  101.8644    0.1220   \n",
       "4    3006.95   2435.34  2189.8111  1084.6502    1.1993  104.8856    0.1234   \n",
       "..       ...       ...        ...        ...       ...       ...       ...   \n",
       "95   3013.66   2526.44  2185.2111  1141.6306    0.8447  100.5978    0.1217   \n",
       "96   2982.87   2477.01  2315.2667  2360.1325    1.1259   90.1144    0.1160   \n",
       "97   3084.82   2387.42  2171.5000  1028.4440    0.7899  101.5122    0.1224   \n",
       "98   2955.87   2541.89        NaN        NaN       NaN       NaN       NaN   \n",
       "99   2914.86   2465.11  2210.2778  2120.5760    1.0700   95.1089    0.1230   \n",
       "\n",
       "    Sensor-9  Sensor-10  Sensor-11  ...  Sensor-582  Sensor-583  Sensor-584  \\\n",
       "0     1.5300    -0.0279    -0.0040  ...         NaN      0.5004      0.0120   \n",
       "1     1.3953     0.0084     0.0062  ...         NaN      0.4994      0.0115   \n",
       "2     1.3896     0.0138     0.0000  ...         NaN      0.4987      0.0118   \n",
       "3     1.4108    -0.0046    -0.0024  ...         NaN      0.4934      0.0123   \n",
       "4     1.5094    -0.0046     0.0121  ...         NaN      0.4987      0.0145   \n",
       "..       ...        ...        ...  ...         ...         ...         ...   \n",
       "95    1.5337     0.0090     0.0058  ...         NaN      0.5013      0.0076   \n",
       "96    1.4695     0.0071     0.0215  ...         NaN      0.5003      0.0106   \n",
       "97    1.3603    -0.0031     0.0086  ...         NaN      0.5016      0.0130   \n",
       "98    1.4493    -0.0194    -0.0018  ...         NaN      0.5023      0.0140   \n",
       "99    1.5817     0.0118     0.0000  ...         NaN      0.5026      0.0121   \n",
       "\n",
       "    Sensor-585  Sensor-586  Sensor-587  Sensor-588  Sensor-589  Sensor-590  \\\n",
       "0       0.0033      2.4069      0.0545      0.0184      0.0055     33.7876   \n",
       "1       0.0031      2.3020      0.0545      0.0184      0.0055     33.7876   \n",
       "2       0.0036      2.3719      0.0545      0.0184      0.0055     33.7876   \n",
       "3       0.0040      2.4923      0.0545      0.0184      0.0055     33.7876   \n",
       "4       0.0041      2.8991      0.0545      0.0184      0.0055     33.7876   \n",
       "..         ...         ...         ...         ...         ...         ...   \n",
       "95      0.0021      1.5152      0.0153      0.0048      0.0017     31.0176   \n",
       "96      0.0028      2.1263      0.0153      0.0048      0.0017     31.0176   \n",
       "97      0.0028      2.5865      0.0153      0.0048      0.0017     31.0176   \n",
       "98      0.0033      2.7810      0.0153      0.0048      0.0017     31.0176   \n",
       "99      0.0032      2.4064      0.0153      0.0048      0.0017     31.0176   \n",
       "\n",
       "    Good/Bad  \n",
       "0         -1  \n",
       "1          1  \n",
       "2         -1  \n",
       "3         -1  \n",
       "4         -1  \n",
       "..       ...  \n",
       "95        -1  \n",
       "96         1  \n",
       "97        -1  \n",
       "98        -1  \n",
       "99         1  \n",
       "\n",
       "[100 rows x 465 columns]"
      ]
     },
     "execution_count": 135,
     "metadata": {},
     "output_type": "execute_result"
    }
   ],
   "source": [
    "df = pd.read_csv(\"C:/Users/himan/OneDrive/Desktop/Wafer_sensor_project/Notebook/new_data.csv\")\n",
    "df"
   ]
  },
  {
   "cell_type": "code",
   "execution_count": 136,
   "metadata": {},
   "outputs": [],
   "source": [
    "X,y=df.iloc[:,:-1],df.iloc[:,-1]"
   ]
  },
  {
   "cell_type": "code",
   "execution_count": 137,
   "metadata": {},
   "outputs": [
    {
     "data": {
      "text/html": [
       "<div>\n",
       "<style scoped>\n",
       "    .dataframe tbody tr th:only-of-type {\n",
       "        vertical-align: middle;\n",
       "    }\n",
       "\n",
       "    .dataframe tbody tr th {\n",
       "        vertical-align: top;\n",
       "    }\n",
       "\n",
       "    .dataframe thead th {\n",
       "        text-align: right;\n",
       "    }\n",
       "</style>\n",
       "<table border=\"1\" class=\"dataframe\">\n",
       "  <thead>\n",
       "    <tr style=\"text-align: right;\">\n",
       "      <th></th>\n",
       "      <th>Sensor-1</th>\n",
       "      <th>Sensor-2</th>\n",
       "      <th>Sensor-3</th>\n",
       "      <th>Sensor-4</th>\n",
       "      <th>Sensor-5</th>\n",
       "      <th>Sensor-7</th>\n",
       "      <th>Sensor-8</th>\n",
       "      <th>Sensor-9</th>\n",
       "      <th>Sensor-10</th>\n",
       "      <th>Sensor-11</th>\n",
       "      <th>...</th>\n",
       "      <th>Sensor-581</th>\n",
       "      <th>Sensor-582</th>\n",
       "      <th>Sensor-583</th>\n",
       "      <th>Sensor-584</th>\n",
       "      <th>Sensor-585</th>\n",
       "      <th>Sensor-586</th>\n",
       "      <th>Sensor-587</th>\n",
       "      <th>Sensor-588</th>\n",
       "      <th>Sensor-589</th>\n",
       "      <th>Sensor-590</th>\n",
       "    </tr>\n",
       "  </thead>\n",
       "  <tbody>\n",
       "    <tr>\n",
       "      <th>0</th>\n",
       "      <td>2968.33</td>\n",
       "      <td>2476.58</td>\n",
       "      <td>2216.7333</td>\n",
       "      <td>1748.0885</td>\n",
       "      <td>1.1127</td>\n",
       "      <td>97.5822</td>\n",
       "      <td>0.1242</td>\n",
       "      <td>1.5300</td>\n",
       "      <td>-0.0279</td>\n",
       "      <td>-0.0040</td>\n",
       "      <td>...</td>\n",
       "      <td>NaN</td>\n",
       "      <td>NaN</td>\n",
       "      <td>0.5004</td>\n",
       "      <td>0.0120</td>\n",
       "      <td>0.0033</td>\n",
       "      <td>2.4069</td>\n",
       "      <td>0.0545</td>\n",
       "      <td>0.0184</td>\n",
       "      <td>0.0055</td>\n",
       "      <td>33.7876</td>\n",
       "    </tr>\n",
       "    <tr>\n",
       "      <th>1</th>\n",
       "      <td>2961.04</td>\n",
       "      <td>2506.43</td>\n",
       "      <td>2170.0666</td>\n",
       "      <td>1364.5157</td>\n",
       "      <td>1.5447</td>\n",
       "      <td>96.7700</td>\n",
       "      <td>0.1230</td>\n",
       "      <td>1.3953</td>\n",
       "      <td>0.0084</td>\n",
       "      <td>0.0062</td>\n",
       "      <td>...</td>\n",
       "      <td>NaN</td>\n",
       "      <td>NaN</td>\n",
       "      <td>0.4994</td>\n",
       "      <td>0.0115</td>\n",
       "      <td>0.0031</td>\n",
       "      <td>2.3020</td>\n",
       "      <td>0.0545</td>\n",
       "      <td>0.0184</td>\n",
       "      <td>0.0055</td>\n",
       "      <td>33.7876</td>\n",
       "    </tr>\n",
       "    <tr>\n",
       "      <th>2</th>\n",
       "      <td>3072.03</td>\n",
       "      <td>2500.68</td>\n",
       "      <td>2205.7445</td>\n",
       "      <td>1363.1048</td>\n",
       "      <td>1.0518</td>\n",
       "      <td>101.8644</td>\n",
       "      <td>0.1220</td>\n",
       "      <td>1.3896</td>\n",
       "      <td>0.0138</td>\n",
       "      <td>0.0000</td>\n",
       "      <td>...</td>\n",
       "      <td>NaN</td>\n",
       "      <td>NaN</td>\n",
       "      <td>0.4987</td>\n",
       "      <td>0.0118</td>\n",
       "      <td>0.0036</td>\n",
       "      <td>2.3719</td>\n",
       "      <td>0.0545</td>\n",
       "      <td>0.0184</td>\n",
       "      <td>0.0055</td>\n",
       "      <td>33.7876</td>\n",
       "    </tr>\n",
       "    <tr>\n",
       "      <th>3</th>\n",
       "      <td>3021.83</td>\n",
       "      <td>2419.83</td>\n",
       "      <td>2205.7445</td>\n",
       "      <td>1363.1048</td>\n",
       "      <td>1.0518</td>\n",
       "      <td>101.8644</td>\n",
       "      <td>0.1220</td>\n",
       "      <td>1.4108</td>\n",
       "      <td>-0.0046</td>\n",
       "      <td>-0.0024</td>\n",
       "      <td>...</td>\n",
       "      <td>NaN</td>\n",
       "      <td>NaN</td>\n",
       "      <td>0.4934</td>\n",
       "      <td>0.0123</td>\n",
       "      <td>0.0040</td>\n",
       "      <td>2.4923</td>\n",
       "      <td>0.0545</td>\n",
       "      <td>0.0184</td>\n",
       "      <td>0.0055</td>\n",
       "      <td>33.7876</td>\n",
       "    </tr>\n",
       "    <tr>\n",
       "      <th>4</th>\n",
       "      <td>3006.95</td>\n",
       "      <td>2435.34</td>\n",
       "      <td>2189.8111</td>\n",
       "      <td>1084.6502</td>\n",
       "      <td>1.1993</td>\n",
       "      <td>104.8856</td>\n",
       "      <td>0.1234</td>\n",
       "      <td>1.5094</td>\n",
       "      <td>-0.0046</td>\n",
       "      <td>0.0121</td>\n",
       "      <td>...</td>\n",
       "      <td>NaN</td>\n",
       "      <td>NaN</td>\n",
       "      <td>0.4987</td>\n",
       "      <td>0.0145</td>\n",
       "      <td>0.0041</td>\n",
       "      <td>2.8991</td>\n",
       "      <td>0.0545</td>\n",
       "      <td>0.0184</td>\n",
       "      <td>0.0055</td>\n",
       "      <td>33.7876</td>\n",
       "    </tr>\n",
       "    <tr>\n",
       "      <th>...</th>\n",
       "      <td>...</td>\n",
       "      <td>...</td>\n",
       "      <td>...</td>\n",
       "      <td>...</td>\n",
       "      <td>...</td>\n",
       "      <td>...</td>\n",
       "      <td>...</td>\n",
       "      <td>...</td>\n",
       "      <td>...</td>\n",
       "      <td>...</td>\n",
       "      <td>...</td>\n",
       "      <td>...</td>\n",
       "      <td>...</td>\n",
       "      <td>...</td>\n",
       "      <td>...</td>\n",
       "      <td>...</td>\n",
       "      <td>...</td>\n",
       "      <td>...</td>\n",
       "      <td>...</td>\n",
       "      <td>...</td>\n",
       "      <td>...</td>\n",
       "    </tr>\n",
       "    <tr>\n",
       "      <th>95</th>\n",
       "      <td>3013.66</td>\n",
       "      <td>2526.44</td>\n",
       "      <td>2185.2111</td>\n",
       "      <td>1141.6306</td>\n",
       "      <td>0.8447</td>\n",
       "      <td>100.5978</td>\n",
       "      <td>0.1217</td>\n",
       "      <td>1.5337</td>\n",
       "      <td>0.0090</td>\n",
       "      <td>0.0058</td>\n",
       "      <td>...</td>\n",
       "      <td>NaN</td>\n",
       "      <td>NaN</td>\n",
       "      <td>0.5013</td>\n",
       "      <td>0.0076</td>\n",
       "      <td>0.0021</td>\n",
       "      <td>1.5152</td>\n",
       "      <td>0.0153</td>\n",
       "      <td>0.0048</td>\n",
       "      <td>0.0017</td>\n",
       "      <td>31.0176</td>\n",
       "    </tr>\n",
       "    <tr>\n",
       "      <th>96</th>\n",
       "      <td>2982.87</td>\n",
       "      <td>2477.01</td>\n",
       "      <td>2315.2667</td>\n",
       "      <td>2360.1325</td>\n",
       "      <td>1.1259</td>\n",
       "      <td>90.1144</td>\n",
       "      <td>0.1160</td>\n",
       "      <td>1.4695</td>\n",
       "      <td>0.0071</td>\n",
       "      <td>0.0215</td>\n",
       "      <td>...</td>\n",
       "      <td>NaN</td>\n",
       "      <td>NaN</td>\n",
       "      <td>0.5003</td>\n",
       "      <td>0.0106</td>\n",
       "      <td>0.0028</td>\n",
       "      <td>2.1263</td>\n",
       "      <td>0.0153</td>\n",
       "      <td>0.0048</td>\n",
       "      <td>0.0017</td>\n",
       "      <td>31.0176</td>\n",
       "    </tr>\n",
       "    <tr>\n",
       "      <th>97</th>\n",
       "      <td>3084.82</td>\n",
       "      <td>2387.42</td>\n",
       "      <td>2171.5000</td>\n",
       "      <td>1028.4440</td>\n",
       "      <td>0.7899</td>\n",
       "      <td>101.5122</td>\n",
       "      <td>0.1224</td>\n",
       "      <td>1.3603</td>\n",
       "      <td>-0.0031</td>\n",
       "      <td>0.0086</td>\n",
       "      <td>...</td>\n",
       "      <td>NaN</td>\n",
       "      <td>NaN</td>\n",
       "      <td>0.5016</td>\n",
       "      <td>0.0130</td>\n",
       "      <td>0.0028</td>\n",
       "      <td>2.5865</td>\n",
       "      <td>0.0153</td>\n",
       "      <td>0.0048</td>\n",
       "      <td>0.0017</td>\n",
       "      <td>31.0176</td>\n",
       "    </tr>\n",
       "    <tr>\n",
       "      <th>98</th>\n",
       "      <td>2955.87</td>\n",
       "      <td>2541.89</td>\n",
       "      <td>NaN</td>\n",
       "      <td>NaN</td>\n",
       "      <td>NaN</td>\n",
       "      <td>NaN</td>\n",
       "      <td>NaN</td>\n",
       "      <td>1.4493</td>\n",
       "      <td>-0.0194</td>\n",
       "      <td>-0.0018</td>\n",
       "      <td>...</td>\n",
       "      <td>NaN</td>\n",
       "      <td>NaN</td>\n",
       "      <td>0.5023</td>\n",
       "      <td>0.0140</td>\n",
       "      <td>0.0033</td>\n",
       "      <td>2.7810</td>\n",
       "      <td>0.0153</td>\n",
       "      <td>0.0048</td>\n",
       "      <td>0.0017</td>\n",
       "      <td>31.0176</td>\n",
       "    </tr>\n",
       "    <tr>\n",
       "      <th>99</th>\n",
       "      <td>2914.86</td>\n",
       "      <td>2465.11</td>\n",
       "      <td>2210.2778</td>\n",
       "      <td>2120.5760</td>\n",
       "      <td>1.0700</td>\n",
       "      <td>95.1089</td>\n",
       "      <td>0.1230</td>\n",
       "      <td>1.5817</td>\n",
       "      <td>0.0118</td>\n",
       "      <td>0.0000</td>\n",
       "      <td>...</td>\n",
       "      <td>NaN</td>\n",
       "      <td>NaN</td>\n",
       "      <td>0.5026</td>\n",
       "      <td>0.0121</td>\n",
       "      <td>0.0032</td>\n",
       "      <td>2.4064</td>\n",
       "      <td>0.0153</td>\n",
       "      <td>0.0048</td>\n",
       "      <td>0.0017</td>\n",
       "      <td>31.0176</td>\n",
       "    </tr>\n",
       "  </tbody>\n",
       "</table>\n",
       "<p>100 rows × 464 columns</p>\n",
       "</div>"
      ],
      "text/plain": [
       "    Sensor-1  Sensor-2   Sensor-3   Sensor-4  Sensor-5  Sensor-7  Sensor-8  \\\n",
       "0    2968.33   2476.58  2216.7333  1748.0885    1.1127   97.5822    0.1242   \n",
       "1    2961.04   2506.43  2170.0666  1364.5157    1.5447   96.7700    0.1230   \n",
       "2    3072.03   2500.68  2205.7445  1363.1048    1.0518  101.8644    0.1220   \n",
       "3    3021.83   2419.83  2205.7445  1363.1048    1.0518  101.8644    0.1220   \n",
       "4    3006.95   2435.34  2189.8111  1084.6502    1.1993  104.8856    0.1234   \n",
       "..       ...       ...        ...        ...       ...       ...       ...   \n",
       "95   3013.66   2526.44  2185.2111  1141.6306    0.8447  100.5978    0.1217   \n",
       "96   2982.87   2477.01  2315.2667  2360.1325    1.1259   90.1144    0.1160   \n",
       "97   3084.82   2387.42  2171.5000  1028.4440    0.7899  101.5122    0.1224   \n",
       "98   2955.87   2541.89        NaN        NaN       NaN       NaN       NaN   \n",
       "99   2914.86   2465.11  2210.2778  2120.5760    1.0700   95.1089    0.1230   \n",
       "\n",
       "    Sensor-9  Sensor-10  Sensor-11  ...  Sensor-581  Sensor-582  Sensor-583  \\\n",
       "0     1.5300    -0.0279    -0.0040  ...         NaN         NaN      0.5004   \n",
       "1     1.3953     0.0084     0.0062  ...         NaN         NaN      0.4994   \n",
       "2     1.3896     0.0138     0.0000  ...         NaN         NaN      0.4987   \n",
       "3     1.4108    -0.0046    -0.0024  ...         NaN         NaN      0.4934   \n",
       "4     1.5094    -0.0046     0.0121  ...         NaN         NaN      0.4987   \n",
       "..       ...        ...        ...  ...         ...         ...         ...   \n",
       "95    1.5337     0.0090     0.0058  ...         NaN         NaN      0.5013   \n",
       "96    1.4695     0.0071     0.0215  ...         NaN         NaN      0.5003   \n",
       "97    1.3603    -0.0031     0.0086  ...         NaN         NaN      0.5016   \n",
       "98    1.4493    -0.0194    -0.0018  ...         NaN         NaN      0.5023   \n",
       "99    1.5817     0.0118     0.0000  ...         NaN         NaN      0.5026   \n",
       "\n",
       "    Sensor-584  Sensor-585  Sensor-586  Sensor-587  Sensor-588  Sensor-589  \\\n",
       "0       0.0120      0.0033      2.4069      0.0545      0.0184      0.0055   \n",
       "1       0.0115      0.0031      2.3020      0.0545      0.0184      0.0055   \n",
       "2       0.0118      0.0036      2.3719      0.0545      0.0184      0.0055   \n",
       "3       0.0123      0.0040      2.4923      0.0545      0.0184      0.0055   \n",
       "4       0.0145      0.0041      2.8991      0.0545      0.0184      0.0055   \n",
       "..         ...         ...         ...         ...         ...         ...   \n",
       "95      0.0076      0.0021      1.5152      0.0153      0.0048      0.0017   \n",
       "96      0.0106      0.0028      2.1263      0.0153      0.0048      0.0017   \n",
       "97      0.0130      0.0028      2.5865      0.0153      0.0048      0.0017   \n",
       "98      0.0140      0.0033      2.7810      0.0153      0.0048      0.0017   \n",
       "99      0.0121      0.0032      2.4064      0.0153      0.0048      0.0017   \n",
       "\n",
       "    Sensor-590  \n",
       "0      33.7876  \n",
       "1      33.7876  \n",
       "2      33.7876  \n",
       "3      33.7876  \n",
       "4      33.7876  \n",
       "..         ...  \n",
       "95     31.0176  \n",
       "96     31.0176  \n",
       "97     31.0176  \n",
       "98     31.0176  \n",
       "99     31.0176  \n",
       "\n",
       "[100 rows x 464 columns]"
      ]
     },
     "execution_count": 137,
     "metadata": {},
     "output_type": "execute_result"
    }
   ],
   "source": [
    "X"
   ]
  },
  {
   "cell_type": "code",
   "execution_count": 138,
   "metadata": {},
   "outputs": [
    {
     "data": {
      "text/html": [
       "<style>#sk-container-id-6 {color: black;}#sk-container-id-6 pre{padding: 0;}#sk-container-id-6 div.sk-toggleable {background-color: white;}#sk-container-id-6 label.sk-toggleable__label {cursor: pointer;display: block;width: 100%;margin-bottom: 0;padding: 0.3em;box-sizing: border-box;text-align: center;}#sk-container-id-6 label.sk-toggleable__label-arrow:before {content: \"▸\";float: left;margin-right: 0.25em;color: #696969;}#sk-container-id-6 label.sk-toggleable__label-arrow:hover:before {color: black;}#sk-container-id-6 div.sk-estimator:hover label.sk-toggleable__label-arrow:before {color: black;}#sk-container-id-6 div.sk-toggleable__content {max-height: 0;max-width: 0;overflow: hidden;text-align: left;background-color: #f0f8ff;}#sk-container-id-6 div.sk-toggleable__content pre {margin: 0.2em;color: black;border-radius: 0.25em;background-color: #f0f8ff;}#sk-container-id-6 input.sk-toggleable__control:checked~div.sk-toggleable__content {max-height: 200px;max-width: 100%;overflow: auto;}#sk-container-id-6 input.sk-toggleable__control:checked~label.sk-toggleable__label-arrow:before {content: \"▾\";}#sk-container-id-6 div.sk-estimator input.sk-toggleable__control:checked~label.sk-toggleable__label {background-color: #d4ebff;}#sk-container-id-6 div.sk-label input.sk-toggleable__control:checked~label.sk-toggleable__label {background-color: #d4ebff;}#sk-container-id-6 input.sk-hidden--visually {border: 0;clip: rect(1px 1px 1px 1px);clip: rect(1px, 1px, 1px, 1px);height: 1px;margin: -1px;overflow: hidden;padding: 0;position: absolute;width: 1px;}#sk-container-id-6 div.sk-estimator {font-family: monospace;background-color: #f0f8ff;border: 1px dotted black;border-radius: 0.25em;box-sizing: border-box;margin-bottom: 0.5em;}#sk-container-id-6 div.sk-estimator:hover {background-color: #d4ebff;}#sk-container-id-6 div.sk-parallel-item::after {content: \"\";width: 100%;border-bottom: 1px solid gray;flex-grow: 1;}#sk-container-id-6 div.sk-label:hover label.sk-toggleable__label {background-color: #d4ebff;}#sk-container-id-6 div.sk-serial::before {content: \"\";position: absolute;border-left: 1px solid gray;box-sizing: border-box;top: 0;bottom: 0;left: 50%;z-index: 0;}#sk-container-id-6 div.sk-serial {display: flex;flex-direction: column;align-items: center;background-color: white;padding-right: 0.2em;padding-left: 0.2em;position: relative;}#sk-container-id-6 div.sk-item {position: relative;z-index: 1;}#sk-container-id-6 div.sk-parallel {display: flex;align-items: stretch;justify-content: center;background-color: white;position: relative;}#sk-container-id-6 div.sk-item::before, #sk-container-id-6 div.sk-parallel-item::before {content: \"\";position: absolute;border-left: 1px solid gray;box-sizing: border-box;top: 0;bottom: 0;left: 50%;z-index: -1;}#sk-container-id-6 div.sk-parallel-item {display: flex;flex-direction: column;z-index: 1;position: relative;background-color: white;}#sk-container-id-6 div.sk-parallel-item:first-child::after {align-self: flex-end;width: 50%;}#sk-container-id-6 div.sk-parallel-item:last-child::after {align-self: flex-start;width: 50%;}#sk-container-id-6 div.sk-parallel-item:only-child::after {width: 0;}#sk-container-id-6 div.sk-dashed-wrapped {border: 1px dashed gray;margin: 0 0.4em 0.5em 0.4em;box-sizing: border-box;padding-bottom: 0.4em;background-color: white;}#sk-container-id-6 div.sk-label label {font-family: monospace;font-weight: bold;display: inline-block;line-height: 1.2em;}#sk-container-id-6 div.sk-label-container {text-align: center;}#sk-container-id-6 div.sk-container {/* jupyter's `normalize.less` sets `[hidden] { display: none; }` but bootstrap.min.css set `[hidden] { display: none !important; }` so we also need the `!important` here to be able to override the default hidden behavior on the sphinx rendered scikit-learn.org. See: https://github.com/scikit-learn/scikit-learn/issues/21755 */display: inline-block !important;position: relative;}#sk-container-id-6 div.sk-text-repr-fallback {display: none;}</style><div id=\"sk-container-id-6\" class=\"sk-top-container\"><div class=\"sk-text-repr-fallback\"><pre>Pipeline(steps=[(&#x27;impute&#x27;, KNNImputer(n_neighbors=3)),\n",
       "                (&#x27;scaler&#x27;, RobustScaler())])</pre><b>In a Jupyter environment, please rerun this cell to show the HTML representation or trust the notebook. <br />On GitHub, the HTML representation is unable to render, please try loading this page with nbviewer.org.</b></div><div class=\"sk-container\" hidden><div class=\"sk-item sk-dashed-wrapped\"><div class=\"sk-label-container\"><div class=\"sk-label sk-toggleable\"><input class=\"sk-toggleable__control sk-hidden--visually\" id=\"sk-estimator-id-16\" type=\"checkbox\" ><label for=\"sk-estimator-id-16\" class=\"sk-toggleable__label sk-toggleable__label-arrow\">Pipeline</label><div class=\"sk-toggleable__content\"><pre>Pipeline(steps=[(&#x27;impute&#x27;, KNNImputer(n_neighbors=3)),\n",
       "                (&#x27;scaler&#x27;, RobustScaler())])</pre></div></div></div><div class=\"sk-serial\"><div class=\"sk-item\"><div class=\"sk-estimator sk-toggleable\"><input class=\"sk-toggleable__control sk-hidden--visually\" id=\"sk-estimator-id-17\" type=\"checkbox\" ><label for=\"sk-estimator-id-17\" class=\"sk-toggleable__label sk-toggleable__label-arrow\">KNNImputer</label><div class=\"sk-toggleable__content\"><pre>KNNImputer(n_neighbors=3)</pre></div></div></div><div class=\"sk-item\"><div class=\"sk-estimator sk-toggleable\"><input class=\"sk-toggleable__control sk-hidden--visually\" id=\"sk-estimator-id-18\" type=\"checkbox\" ><label for=\"sk-estimator-id-18\" class=\"sk-toggleable__label sk-toggleable__label-arrow\">RobustScaler</label><div class=\"sk-toggleable__content\"><pre>RobustScaler()</pre></div></div></div></div></div></div></div>"
      ],
      "text/plain": [
       "Pipeline(steps=[('impute', KNNImputer(n_neighbors=3)),\n",
       "                ('scaler', RobustScaler())])"
      ]
     },
     "execution_count": 138,
     "metadata": {},
     "output_type": "execute_result"
    }
   ],
   "source": [
    "impute  = KNNImputer(n_neighbors=3)\n",
    "preprocessing_pipeline = Pipeline(\n",
    "    steps=[\n",
    "        (\"impute\",impute),\n",
    "        ('scaler', RobustScaler()),\n",
    "        ]\n",
    ")\n",
    "\n",
    "preprocessing_pipeline"
   ]
  },
  {
   "cell_type": "code",
   "execution_count": 139,
   "metadata": {},
   "outputs": [],
   "source": [
    "X_train,X_test,y_train,y_test = train_test_split(X,y,test_size=0.3,random_state=42)"
   ]
  },
  {
   "cell_type": "code",
   "execution_count": 140,
   "metadata": {},
   "outputs": [],
   "source": [
    "X_train_preprocessed = preprocessing_pipeline.fit_transform(X)\n",
    "\n",
    "X_test_preprocessed = preprocessing_pipeline.transform(X)\n"
   ]
  },
  {
   "cell_type": "code",
   "execution_count": 141,
   "metadata": {},
   "outputs": [
    {
     "data": {
      "text/plain": [
       "(100, 464)"
      ]
     },
     "execution_count": 141,
     "metadata": {},
     "output_type": "execute_result"
    }
   ],
   "source": [
    "X_train_preprocessed.shape"
   ]
  },
  {
   "cell_type": "markdown",
   "metadata": {},
   "source": [
    "### Is clustring will help lets check ?"
   ]
  },
  {
   "cell_type": "code",
   "execution_count": 142,
   "metadata": {},
   "outputs": [],
   "source": [
    "from sklearn.cluster import KMeans\n",
    "from kneed import KneeLocator\n",
    "from typing import Tuple\n",
    "from dataclasses import dataclass\n",
    "\n",
    "\n",
    "@dataclass\n",
    "class ClusterDataInstances:\n",
    "    \"\"\"Divides the given data instances into different clusters via KMeans Clustering algorithm.\n",
    "\n",
    "    Args:\n",
    "        X (np.array): Takes in an array which gotta be clustered.\n",
    "        desc (str): Description of the said array.\n",
    "    \"\"\"\n",
    "    X: np.array\n",
    "    desc: str\n",
    "\n",
    "    def _get_ideal_number_of_clusters(self):\n",
    "        \"\"\"Returns the ideal number of clusters the given data instances should be divided into by \n",
    "        locating the dispersal point in number of clusters vs WCSS plot.\n",
    "\n",
    "        Raises:\n",
    "            e: Raises relevant exception should any kinda error pops up while determining the ideal\n",
    "            number of clusters.\n",
    "\n",
    "        Returns:\n",
    "            int: Ideal number of clusters the given data instances should be divided into.\n",
    "        \"\"\"\n",
    "        try:\n",
    "            print(\n",
    "                f'Getting the ideal number of clusters to cluster \"{self.desc} set\" into..')\n",
    "\n",
    "            ####################### Compute WCSS for shortlisted number of clusters ##########################\n",
    "            print(\"computing WCSS for shortlisted number of clusters..\")\n",
    "            wcss = []  # Within Summation of Squares\n",
    "            for i in range(1, 11):\n",
    "                kmeans = KMeans(n_clusters=i, init='k-means++',\n",
    "                                random_state=42)\n",
    "                kmeans.fit(self.X)\n",
    "                wcss.append(kmeans.inertia_)\n",
    "                print(f\"WCSS for n_clusters={i}: {kmeans.inertia_}\")\n",
    "            print(\n",
    "                \"WCSS computed successfully for all shortlisted number of clusters!\")\n",
    "\n",
    "            ################### Finalize dispersal point as the ideal number of clusters #####################\n",
    "            print(\n",
    "                \"Finding the ideal number of clusters (by locating the dispersal point) via Elbow method..\")\n",
    "            knee_finder = KneeLocator(\n",
    "                range(1, 11), wcss, curve='convex', direction='decreasing')  # range(1, 11) vs WCSS\n",
    "            print(\n",
    "                f\"Ideal number of clusters to be formed: {knee_finder.knee}\")\n",
    "\n",
    "            return knee_finder.knee\n",
    "            ...\n",
    "        except Exception as e:\n",
    "            print(e)\n",
    "            raise e\n",
    "\n",
    "    def create_clusters(self) -> Tuple:\n",
    "        \"\"\"Divides the given data instances into the different clusters, they first hand shoud've been divided into\n",
    "        via offcourse Kmeans Clustering algorithm.\n",
    "\n",
    "        Raises:\n",
    "            e: Raises relevant exception should any kinda error pops up while dividing the given data instances into\n",
    "            clusters.\n",
    "\n",
    "        Returns:\n",
    "            (KMeans, np.array): KMeans Clustering object being used to cluster the given data instances and the given dataset \n",
    "            along with the cluster labels, respectively.\n",
    "        \"\"\"\n",
    "        try:\n",
    "            ideal_clusters = self._get_ideal_number_of_clusters()\n",
    "            print(\n",
    "                f\"Dividing the \\\"{self.desc}\\\" instances into {ideal_clusters} clusters via KMeans Clustering algorithm..\")\n",
    "            kmeans = KMeans(n_clusters=ideal_clusters,\n",
    "                            init='k-means++', random_state=42)\n",
    "            y_kmeans = kmeans.fit_predict(self.X)\n",
    "            print(\n",
    "                f\"..said data instances divided into {ideal_clusters} clusters successfully!\")\n",
    "\n",
    "            return kmeans, np.c_[self.X, y_kmeans]\n",
    "            ...\n",
    "        except Exception as e:\n",
    "            print(e)\n",
    "            raise e"
   ]
  },
  {
   "cell_type": "code",
   "execution_count": 143,
   "metadata": {},
   "outputs": [],
   "source": [
    "cluster_data = ClusterDataInstances(X=X_train_preprocessed,desc=\" wafer features\")"
   ]
  },
  {
   "cell_type": "code",
   "execution_count": 144,
   "metadata": {},
   "outputs": [
    {
     "name": "stdout",
     "output_type": "stream",
     "text": [
      "Getting the ideal number of clusters to cluster \" wafer features set\" into..\n",
      "computing WCSS for shortlisted number of clusters..\n",
      "WCSS for n_clusters=1: 1503027.0872606935\n",
      "WCSS for n_clusters=2: 512171.5394467206\n",
      "WCSS for n_clusters=3: 185172.615933283\n",
      "WCSS for n_clusters=4: 143010.77362221613\n",
      "WCSS for n_clusters=5: 108665.83274685759\n",
      "WCSS for n_clusters=6: 88416.57759883623\n"
     ]
    },
    {
     "name": "stderr",
     "output_type": "stream",
     "text": [
      "c:\\Users\\himan\\OneDrive\\Desktop\\Wafer_sensor_project\\env\\lib\\site-packages\\sklearn\\cluster\\_kmeans.py:1416: FutureWarning: The default value of `n_init` will change from 10 to 'auto' in 1.4. Set the value of `n_init` explicitly to suppress the warning\n",
      "  super()._check_params_vs_input(X, default_n_init=10)\n",
      "c:\\Users\\himan\\OneDrive\\Desktop\\Wafer_sensor_project\\env\\lib\\site-packages\\sklearn\\cluster\\_kmeans.py:1416: FutureWarning: The default value of `n_init` will change from 10 to 'auto' in 1.4. Set the value of `n_init` explicitly to suppress the warning\n",
      "  super()._check_params_vs_input(X, default_n_init=10)\n",
      "c:\\Users\\himan\\OneDrive\\Desktop\\Wafer_sensor_project\\env\\lib\\site-packages\\sklearn\\cluster\\_kmeans.py:1416: FutureWarning: The default value of `n_init` will change from 10 to 'auto' in 1.4. Set the value of `n_init` explicitly to suppress the warning\n",
      "  super()._check_params_vs_input(X, default_n_init=10)\n",
      "c:\\Users\\himan\\OneDrive\\Desktop\\Wafer_sensor_project\\env\\lib\\site-packages\\sklearn\\cluster\\_kmeans.py:1416: FutureWarning: The default value of `n_init` will change from 10 to 'auto' in 1.4. Set the value of `n_init` explicitly to suppress the warning\n",
      "  super()._check_params_vs_input(X, default_n_init=10)\n",
      "c:\\Users\\himan\\OneDrive\\Desktop\\Wafer_sensor_project\\env\\lib\\site-packages\\sklearn\\cluster\\_kmeans.py:1416: FutureWarning: The default value of `n_init` will change from 10 to 'auto' in 1.4. Set the value of `n_init` explicitly to suppress the warning\n",
      "  super()._check_params_vs_input(X, default_n_init=10)\n",
      "c:\\Users\\himan\\OneDrive\\Desktop\\Wafer_sensor_project\\env\\lib\\site-packages\\sklearn\\cluster\\_kmeans.py:1416: FutureWarning: The default value of `n_init` will change from 10 to 'auto' in 1.4. Set the value of `n_init` explicitly to suppress the warning\n",
      "  super()._check_params_vs_input(X, default_n_init=10)\n",
      "c:\\Users\\himan\\OneDrive\\Desktop\\Wafer_sensor_project\\env\\lib\\site-packages\\sklearn\\cluster\\_kmeans.py:1416: FutureWarning: The default value of `n_init` will change from 10 to 'auto' in 1.4. Set the value of `n_init` explicitly to suppress the warning\n",
      "  super()._check_params_vs_input(X, default_n_init=10)\n"
     ]
    },
    {
     "name": "stdout",
     "output_type": "stream",
     "text": [
      "WCSS for n_clusters=7: 75948.6029281954\n",
      "WCSS for n_clusters=8: 68511.36578079518\n",
      "WCSS for n_clusters=9: 65170.547494421146\n",
      "WCSS for n_clusters=10: 57009.70647141043\n",
      "WCSS computed successfully for all shortlisted number of clusters!\n",
      "Finding the ideal number of clusters (by locating the dispersal point) via Elbow method..\n",
      "Ideal number of clusters to be formed: 3\n",
      "Dividing the \" wafer features\" instances into 3 clusters via KMeans Clustering algorithm..\n",
      "..said data instances divided into 3 clusters successfully!\n"
     ]
    },
    {
     "name": "stderr",
     "output_type": "stream",
     "text": [
      "c:\\Users\\himan\\OneDrive\\Desktop\\Wafer_sensor_project\\env\\lib\\site-packages\\sklearn\\cluster\\_kmeans.py:1416: FutureWarning: The default value of `n_init` will change from 10 to 'auto' in 1.4. Set the value of `n_init` explicitly to suppress the warning\n",
      "  super()._check_params_vs_input(X, default_n_init=10)\n",
      "c:\\Users\\himan\\OneDrive\\Desktop\\Wafer_sensor_project\\env\\lib\\site-packages\\sklearn\\cluster\\_kmeans.py:1416: FutureWarning: The default value of `n_init` will change from 10 to 'auto' in 1.4. Set the value of `n_init` explicitly to suppress the warning\n",
      "  super()._check_params_vs_input(X, default_n_init=10)\n",
      "c:\\Users\\himan\\OneDrive\\Desktop\\Wafer_sensor_project\\env\\lib\\site-packages\\sklearn\\cluster\\_kmeans.py:1416: FutureWarning: The default value of `n_init` will change from 10 to 'auto' in 1.4. Set the value of `n_init` explicitly to suppress the warning\n",
      "  super()._check_params_vs_input(X, default_n_init=10)\n",
      "c:\\Users\\himan\\OneDrive\\Desktop\\Wafer_sensor_project\\env\\lib\\site-packages\\sklearn\\cluster\\_kmeans.py:1416: FutureWarning: The default value of `n_init` will change from 10 to 'auto' in 1.4. Set the value of `n_init` explicitly to suppress the warning\n",
      "  super()._check_params_vs_input(X, default_n_init=10)\n"
     ]
    },
    {
     "data": {
      "text/plain": [
       "array([[-0.37110152, -0.21388855,  0.67805794, ...,  0.515625  ,\n",
       "        -0.40093   ,  0.        ],\n",
       "       [-0.44644841,  0.15494872, -1.32959552, ...,  0.515625  ,\n",
       "        -0.40093   ,  0.        ],\n",
       "       [ 0.70070541,  0.08389967,  0.20530751, ...,  0.515625  ,\n",
       "        -0.40093   ,  0.        ],\n",
       "       ...,\n",
       "       [ 0.83289837, -1.31558137, -1.26792905, ..., -0.671875  ,\n",
       "        -0.44021198,  0.        ],\n",
       "       [-0.49988372,  0.59310515, -0.16308229, ..., -0.671875  ,\n",
       "        -0.44021198,  0.        ],\n",
       "       [-0.92374874, -0.35561596,  0.40033513, ..., -0.671875  ,\n",
       "        -0.44021198,  0.        ]])"
      ]
     },
     "execution_count": 144,
     "metadata": {},
     "output_type": "execute_result"
    }
   ],
   "source": [
    "clusters,X_clus = cluster_data.create_clusters()\n",
    "X_clus"
   ]
  },
  {
   "cell_type": "code",
   "execution_count": 145,
   "metadata": {},
   "outputs": [
    {
     "data": {
      "text/plain": [
       "array([0., 1., 2.])"
      ]
     },
     "execution_count": 145,
     "metadata": {},
     "output_type": "execute_result"
    }
   ],
   "source": [
    "np.unique(X_clus[:,-1])"
   ]
  },
  {
   "cell_type": "code",
   "execution_count": 146,
   "metadata": {},
   "outputs": [],
   "source": [
    "wafers_clus = np.c_[X_clus,y]\n"
   ]
  },
  {
   "cell_type": "code",
   "execution_count": 147,
   "metadata": {},
   "outputs": [
    {
     "data": {
      "text/plain": [
       "(96, 466)"
      ]
     },
     "execution_count": 147,
     "metadata": {},
     "output_type": "execute_result"
    }
   ],
   "source": [
    "wafers_1 = wafers_clus[wafers_clus[:, -2] == 0]\n",
    "wafers_1.shape"
   ]
  },
  {
   "cell_type": "code",
   "execution_count": 148,
   "metadata": {},
   "outputs": [
    {
     "data": {
      "text/plain": [
       "(1, 466)"
      ]
     },
     "execution_count": 148,
     "metadata": {},
     "output_type": "execute_result"
    }
   ],
   "source": [
    "wafers_1 = wafers_clus[wafers_clus[:, -2] == 1]\n",
    "wafers_1.shape"
   ]
  },
  {
   "cell_type": "code",
   "execution_count": 149,
   "metadata": {},
   "outputs": [
    {
     "data": {
      "text/plain": [
       "(3, 466)"
      ]
     },
     "execution_count": 149,
     "metadata": {},
     "output_type": "execute_result"
    }
   ],
   "source": [
    "wafers_1 = wafers_clus[wafers_clus[:, -2] == 2]\n",
    "wafers_1.shape"
   ]
  },
  {
   "cell_type": "markdown",
   "metadata": {},
   "source": [
    "no use of creating cluster  as max cluster is 54 point lie in first one which clearly dominates,so we don't have to cluster them"
   ]
  },
  {
   "cell_type": "markdown",
   "metadata": {},
   "source": [
    "## Resampling the training Instance \n",
    "\n"
   ]
  },
  {
   "cell_type": "code",
   "execution_count": 150,
   "metadata": {},
   "outputs": [],
   "source": [
    "from imblearn.combine import SMOTETomek"
   ]
  },
  {
   "cell_type": "code",
   "execution_count": 151,
   "metadata": {},
   "outputs": [],
   "source": [
    "X,y=X_train_preprocessed,y\n",
    "resample = SMOTETomek(sampling_strategy=\"auto\")\n",
    "X_res,y_res = resample.fit_resample(X,y)"
   ]
  },
  {
   "cell_type": "code",
   "execution_count": 152,
   "metadata": {},
   "outputs": [
    {
     "data": {
      "text/plain": [
       "(100, 464)"
      ]
     },
     "execution_count": 152,
     "metadata": {},
     "output_type": "execute_result"
    }
   ],
   "source": [
    "X.shape"
   ]
  },
  {
   "cell_type": "code",
   "execution_count": 153,
   "metadata": {},
   "outputs": [
    {
     "data": {
      "text/plain": [
       "(100, 465)"
      ]
     },
     "execution_count": 153,
     "metadata": {},
     "output_type": "execute_result"
    }
   ],
   "source": [
    "np.c_[X,y].shape # b4"
   ]
  },
  {
   "cell_type": "code",
   "execution_count": 154,
   "metadata": {},
   "outputs": [
    {
     "data": {
      "text/plain": [
       "(188, 465)"
      ]
     },
     "execution_count": 154,
     "metadata": {},
     "output_type": "execute_result"
    }
   ],
   "source": [
    "np.c_[X_res,y_res].shape # after"
   ]
  },
  {
   "cell_type": "code",
   "execution_count": 155,
   "metadata": {},
   "outputs": [
    {
     "data": {
      "text/plain": [
       "94"
      ]
     },
     "execution_count": 155,
     "metadata": {},
     "output_type": "execute_result"
    }
   ],
   "source": [
    "len(y_res[y_res==-1])"
   ]
  },
  {
   "cell_type": "code",
   "execution_count": 156,
   "metadata": {},
   "outputs": [
    {
     "data": {
      "text/plain": [
       "94"
      ]
     },
     "execution_count": 156,
     "metadata": {},
     "output_type": "execute_result"
    }
   ],
   "source": [
    "len(y_res[y_res==1])"
   ]
  },
  {
   "cell_type": "markdown",
   "metadata": {},
   "source": [
    "Now we have equal cat values nd our data is balanced\n",
    " "
   ]
  },
  {
   "cell_type": "code",
   "execution_count": 157,
   "metadata": {},
   "outputs": [
    {
     "name": "stdout",
     "output_type": "stream",
     "text": [
      "train set: ((125, 464), (125,))\n",
      "test set: ((63, 464), (63,))\n"
     ]
    }
   ],
   "source": [
    "from sklearn.model_selection import train_test_split\n",
    "\n",
    "X_train, X_test, y_train, y_test = train_test_split(X_res, y_res, test_size=1/3, random_state=42)\n",
    "\n",
    "print(f\"train set: {X_train.shape, y_train.shape}\")\n",
    "print(f\"test set: {X_test.shape, y_test.shape}\")"
   ]
  },
  {
   "cell_type": "code",
   "execution_count": 158,
   "metadata": {},
   "outputs": [
    {
     "data": {
      "text/plain": [
       "array([[-0.37110152, -0.21388855,  0.67805794, ...,  0.46272494,\n",
       "         0.515625  , -0.40093   ],\n",
       "       [-0.44644841,  0.15494872, -1.32959552, ...,  0.46272494,\n",
       "         0.515625  , -0.40093   ],\n",
       "       [ 0.70070541,  0.08389967,  0.20530751, ...,  0.46272494,\n",
       "         0.515625  , -0.40093   ],\n",
       "       ...,\n",
       "       [ 0.83289837, -1.31558137, -1.26792905, ..., -0.93573265,\n",
       "        -0.671875  , -0.44021198],\n",
       "       [-0.49988372,  0.59310515, -0.16308229, ..., -0.93573265,\n",
       "        -0.671875  , -0.44021198],\n",
       "       [-0.92374874, -0.35561596,  0.40033513, ..., -0.93573265,\n",
       "        -0.671875  , -0.44021198]])"
      ]
     },
     "execution_count": 158,
     "metadata": {},
     "output_type": "execute_result"
    }
   ],
   "source": [
    "X_test_preprocessed"
   ]
  },
  {
   "cell_type": "code",
   "execution_count": null,
   "metadata": {},
   "outputs": [],
   "source": []
  }
 ],
 "metadata": {
  "kernelspec": {
   "display_name": "Python 3",
   "language": "python",
   "name": "python3"
  },
  "language_info": {
   "codemirror_mode": {
    "name": "ipython",
    "version": 3
   },
   "file_extension": ".py",
   "mimetype": "text/x-python",
   "name": "python",
   "nbconvert_exporter": "python",
   "pygments_lexer": "ipython3",
   "version": "3.8.0"
  },
  "orig_nbformat": 4
 },
 "nbformat": 4,
 "nbformat_minor": 2
}
